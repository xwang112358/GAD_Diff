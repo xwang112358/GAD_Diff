{
 "cells": [
  {
   "cell_type": "code",
   "execution_count": 27,
   "metadata": {},
   "outputs": [],
   "source": [
    "import torch\n",
    "from torch_geometric.utils import from_dgl, to_networkx, k_hop_subgraph\n",
    "import random\n",
    "from torch_geometric.data import Data\n",
    "from torch_geometric.utils import subgraph, to_undirected\n",
    "from torch_cluster import random_walk\n",
    "from utils import *"
   ]
  },
  {
   "cell_type": "code",
   "execution_count": 54,
   "metadata": {},
   "outputs": [],
   "source": [
    "def get_khop_subgraph(pyg_data, node_idx, maxN):\n",
    "    # Extract 2-hop subgraph\n",
    "    hop2_subset, hop2_edge_index, hop2_mapping, hop2_edge_mask = k_hop_subgraph(\n",
    "        node_idx, 2, pyg_data.edge_index, relabel_nodes=True, flow='source_to_target')\n",
    "\n",
    "    # Convert the 2-hop subgraph to undirected\n",
    "    hop2_edge_index = to_undirected(hop2_edge_index)\n",
    "\n",
    "    # Perform random walk to sample nodes until maxN unique nodes are reached\n",
    "    if len(hop2_subset) > maxN:\n",
    "        walk_start = hop2_mapping[0].item() # center node\n",
    "        walks = random_walk_until_maxN(hop2_edge_index[0], hop2_edge_index[1], torch.tensor([walk_start]), maxN, walk_length=2)\n",
    "        subsample_subset = torch.unique(walks.flatten())\n",
    "        \n",
    "        while len(subsample_subset) < maxN:\n",
    "            # keep random walking until we have maxN unique nodes\n",
    "            walks = random_walk_until_maxN(hop2_edge_index[0], hop2_edge_index[1], torch.tensor([walk_start]), maxN, walk_length=2)\n",
    "            # concatenate the new walks with the previous walks\n",
    "            subsample_subset = torch.unique(torch.cat((subsample_subset, torch.unique(walks.flatten()))))\n",
    "\n",
    "        if len(subsample_subset) > maxN:\n",
    "            subsample_subset = subsample_subset[:maxN]\n",
    "\n",
    "        subsample_edge_index, subsample_edge_mask = subgraph(subsample_subset, hop2_edge_index, relabel_nodes=True)\n",
    "    else:\n",
    "        subsample_subset = hop2_subset\n",
    "        subsample_edge_index = hop2_edge_index\n",
    "\n",
    "    # Create subgraph data object\n",
    "    subgraph_data = Data(x=pyg_data.x[subsample_subset], edge_index=subsample_edge_index, num_nodes=len(subsample_subset))\n",
    "\n",
    "    # Set the label for the subgraph based on the original node's label\n",
    "    label = pyg_data.y[node_idx].item()\n",
    "    subgraph_data.y = torch.tensor([label], dtype=torch.long)\n",
    "    subgraph_data.center_node_idx = node_idx\n",
    "\n",
    "    return subgraph_data"
   ]
  },
  {
   "cell_type": "code",
   "execution_count": 49,
   "metadata": {},
   "outputs": [
    {
     "data": {
      "text/plain": [
       "Data(edge_index=[2, 530758], train_masks=[11758], val_masks=[11758], test_masks=[11758], num_nodes=11758, y=[11758], x=[11758, 10])"
      ]
     },
     "execution_count": 49,
     "metadata": {},
     "output_type": "execute_result"
    }
   ],
   "source": [
    "pyg_data = torch.load('./pyg_dataset/tolokers.pt')\n",
    "pyg_data "
   ]
  },
  {
   "cell_type": "code",
   "execution_count": 50,
   "metadata": {},
   "outputs": [
    {
     "name": "stdout",
     "output_type": "stream",
     "text": [
      "5879 2939 2940\n"
     ]
    }
   ],
   "source": [
    "train_indices = torch.nonzero(pyg_data.train_masks, as_tuple=False).squeeze().tolist()\n",
    "vali_indices = torch.nonzero(pyg_data.val_masks, as_tuple=False).squeeze().tolist()\n",
    "test_indices = torch.nonzero(pyg_data.test_masks, as_tuple=False).squeeze().tolist()\n",
    "\n",
    "print(len(train_indices), len(vali_indices), len(test_indices))"
   ]
  },
  {
   "cell_type": "code",
   "execution_count": 53,
   "metadata": {},
   "outputs": [
    {
     "data": {
      "text/plain": [
       "[0,\n",
       " 4,\n",
       " 8,\n",
       " 9,\n",
       " 8204,\n",
       " 19,\n",
       " 8230,\n",
       " 8234,\n",
       " 51,\n",
       " 52,\n",
       " 8250,\n",
       " 8251,\n",
       " 58,\n",
       " 59,\n",
       " 62,\n",
       " 8260,\n",
       " 8265,\n",
       " 74,\n",
       " 75,\n",
       " 76]"
      ]
     },
     "execution_count": 53,
     "metadata": {},
     "output_type": "execute_result"
    }
   ],
   "source": [
    "anomaly_idx = (pyg_data.y == 1).nonzero().squeeze()\n",
    "train_anomaly_idx = list(set(anomaly_idx.tolist()).intersection(set(train_indices)))\n",
    "train_anomaly_idx[:20]"
   ]
  },
  {
   "cell_type": "code",
   "execution_count": 55,
   "metadata": {},
   "outputs": [
    {
     "name": "stdout",
     "output_type": "stream",
     "text": [
      "0\n",
      "Data(x=[1, 10], edge_index=[2, 1], num_nodes=1, y=[1], center_node_idx=0)\n",
      "4\n",
      "Data(x=[2, 10], edge_index=[2, 4], num_nodes=2, y=[1], center_node_idx=4)\n",
      "8\n",
      "Data(x=[1, 10], edge_index=[2, 1], num_nodes=1, y=[1], center_node_idx=8)\n",
      "9\n",
      "Data(x=[1, 10], edge_index=[2, 1], num_nodes=1, y=[1], center_node_idx=9)\n",
      "8204\n",
      "Data(x=[19, 10], edge_index=[2, 139], num_nodes=19, y=[1], center_node_idx=8204)\n",
      "19\n",
      "Data(x=[1, 10], edge_index=[2, 1], num_nodes=1, y=[1], center_node_idx=19)\n",
      "8230\n",
      "Data(x=[88, 10], edge_index=[2, 1672], num_nodes=88, y=[1], center_node_idx=8230)\n",
      "8234\n",
      "Data(x=[100, 10], edge_index=[2, 2284], num_nodes=100, y=[1], center_node_idx=8234)\n",
      "51\n",
      "Data(x=[1, 10], edge_index=[2, 1], num_nodes=1, y=[1], center_node_idx=51)\n",
      "52\n",
      "Data(x=[11, 10], edge_index=[2, 43], num_nodes=11, y=[1], center_node_idx=52)\n",
      "8250\n",
      "Data(x=[100, 10], edge_index=[2, 1860], num_nodes=100, y=[1], center_node_idx=8250)\n",
      "8251\n",
      "Data(x=[100, 10], edge_index=[2, 4026], num_nodes=100, y=[1], center_node_idx=8251)\n",
      "58\n",
      "Data(x=[1, 10], edge_index=[2, 1], num_nodes=1, y=[1], center_node_idx=58)\n",
      "59\n",
      "Data(x=[1, 10], edge_index=[2, 1], num_nodes=1, y=[1], center_node_idx=59)\n",
      "62\n",
      "Data(x=[10, 10], edge_index=[2, 38], num_nodes=10, y=[1], center_node_idx=62)\n",
      "8260\n",
      "Data(x=[100, 10], edge_index=[2, 1842], num_nodes=100, y=[1], center_node_idx=8260)\n",
      "8265\n",
      "Data(x=[100, 10], edge_index=[2, 3002], num_nodes=100, y=[1], center_node_idx=8265)\n",
      "74\n",
      "Data(x=[1, 10], edge_index=[2, 1], num_nodes=1, y=[1], center_node_idx=74)\n",
      "75\n",
      "Data(x=[4, 10], edge_index=[2, 10], num_nodes=4, y=[1], center_node_idx=75)\n",
      "76\n",
      "Data(x=[1, 10], edge_index=[2, 1], num_nodes=1, y=[1], center_node_idx=76)\n"
     ]
    }
   ],
   "source": [
    "for idx in train_anomaly_idx[:20]:\n",
    "    print(idx)\n",
    "    subgraph_data = get_khop_subgraph(pyg_data, idx, 100)\n",
    "    print(subgraph_data)"
   ]
  },
  {
   "cell_type": "code",
   "execution_count": 68,
   "metadata": {},
   "outputs": [
    {
     "data": {
      "text/plain": [
       "Data(x=[2, 10], edge_index=[2, 4], num_nodes=2, y=[1], center_node_idx=1)"
      ]
     },
     "execution_count": 68,
     "metadata": {},
     "output_type": "execute_result"
    }
   ],
   "source": [
    "subgraph_data"
   ]
  },
  {
   "cell_type": "code",
   "execution_count": 53,
   "metadata": {},
   "outputs": [
    {
     "data": {
      "text/plain": [
       "10109"
      ]
     },
     "execution_count": 53,
     "metadata": {},
     "output_type": "execute_result"
    }
   ],
   "source": [
    "len(subset)"
   ]
  },
  {
   "cell_type": "code",
   "execution_count": 40,
   "metadata": {},
   "outputs": [
    {
     "name": "stdout",
     "output_type": "stream",
     "text": [
      "Graph is connected.\n"
     ]
    }
   ],
   "source": [
    "import networkx as nx\n",
    "nx_graph = to_networkx(subgraph, to_undirected=True)\n",
    "components = list(nx.connected_components(nx_graph))\n",
    "if len(components) > 1:\n",
    "    print(f\"Graph contains {len(components)} connected components.\")\n",
    "else:\n",
    "    print(\"Graph is connected.\")"
   ]
  },
  {
   "cell_type": "code",
   "execution_count": 62,
   "metadata": {},
   "outputs": [
    {
     "name": "stdout",
     "output_type": "stream",
     "text": [
      "Original Edge Index:\n",
      "tensor([[0, 1, 2, 3, 4, 5],\n",
      "        [2, 2, 4, 4, 6, 6]])\n",
      "\n",
      "Subset nodes (source to target):\n",
      "tensor([2, 3, 4, 5, 6])\n",
      "Edge Index (source to target):\n",
      "tensor([[2, 3, 4, 5],\n",
      "        [4, 4, 6, 6]])\n",
      "\n",
      "Subset nodes (target to source):\n",
      "tensor([6])\n",
      "Edge Index (target to source):\n",
      "tensor([], size=(2, 0), dtype=torch.int64)\n"
     ]
    }
   ],
   "source": [
    "import torch\n",
    "from torch_geometric.data import Data\n",
    "from torch_geometric.utils import k_hop_subgraph\n",
    "\n",
    "# Create a sample graph\n",
    "edge_index = torch.tensor([[0, 1, 2, 3, 4, 5],\n",
    "                           [2, 2, 4, 4, 6, 6]], dtype=torch.long)\n",
    "\n",
    "# Parameters\n",
    "node_idx = 6  # Node to start the k-hop subgraph extraction\n",
    "num_hops = 2  # Number of hops\n",
    "\n",
    "# Extract k-hop subgraph (source to target)\n",
    "subset_s2t, edge_index_s2t, _, _ = k_hop_subgraph(node_idx, num_hops, edge_index, flow='source_to_target')\n",
    "\n",
    "# Extract k-hop subgraph (target to source)\n",
    "subset_t2s, edge_index_t2s, _, _ = k_hop_subgraph(node_idx, num_hops, edge_index, flow='target_to_source')\n",
    "\n",
    "# Print results\n",
    "print(\"Original Edge Index:\")\n",
    "print(edge_index)\n",
    "\n",
    "print(\"\\nSubset nodes (source to target):\")\n",
    "print(subset_s2t)\n",
    "\n",
    "print(\"Edge Index (source to target):\")\n",
    "print(edge_index_s2t)\n",
    "\n",
    "print(\"\\nSubset nodes (target to source):\")\n",
    "print(subset_t2s)\n",
    "\n",
    "print(\"Edge Index (target to source):\")\n",
    "print(edge_index_t2s)\n"
   ]
  }
 ],
 "metadata": {
  "kernelspec": {
   "display_name": "gad",
   "language": "python",
   "name": "python3"
  },
  "language_info": {
   "codemirror_mode": {
    "name": "ipython",
    "version": 3
   },
   "file_extension": ".py",
   "mimetype": "text/x-python",
   "name": "python",
   "nbconvert_exporter": "python",
   "pygments_lexer": "ipython3",
   "version": "3.10.14"
  }
 },
 "nbformat": 4,
 "nbformat_minor": 2
}
