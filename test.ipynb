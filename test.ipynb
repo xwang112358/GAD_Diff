{
 "cells": [
  {
   "cell_type": "code",
   "execution_count": null,
   "metadata": {},
   "outputs": [],
   "source": [
    "import torch\n",
    "from torch_geometric.utils import from_dgl, to_networkx, k_hop_subgraph, subgraph\n",
    "import random\n",
    "from torch_geometric.data import Data\n",
    "from torch_geometric.utils import subgraph, to_undirected\n",
    "from torch import Tensor\n",
    "from typing import Optional, Tuple, Union\n",
    "from collections import Counter\n",
    "import numpy as np\n",
    "from tqdm import tqdm\n",
    "import torch_geometric.utils as utils"
   ]
  },
  {
   "cell_type": "code",
   "execution_count": null,
   "metadata": {},
   "outputs": [],
   "source": [
    "reddit = torch.load('pyg_dataset/reddit.pt')\n",
    "print(reddit)\n",
    "anomaly_indices = torch.nonzero(reddit.y, as_tuple=False).squeeze().tolist()"
   ]
  },
  {
   "cell_type": "code",
   "execution_count": null,
   "metadata": {},
   "outputs": [],
   "source": [
    "# set seed\n",
    "seed = 0\n",
    "torch.manual_seed(seed)\n",
    "np.random.seed(seed)\n",
    "random.seed(seed)"
   ]
  },
  {
   "cell_type": "code",
   "execution_count": null,
   "metadata": {},
   "outputs": [],
   "source": [
    "def random_walk_subgraph(pyg_graph, start_node, walk_length, max_nodes, onlyE=False):\n",
    "    edge_index = to_undirected(pyg_graph.edge_index)\n",
    "\n",
    "    # Extract a 2-hop subgraph around the start_node\n",
    "    hop2_subset, hop2_edge_index, mapping, _ = k_hop_subgraph(start_node, num_hops=2, edge_index=edge_index, relabel_nodes=True)\n",
    "    node_mapping = {i: hop2_subset[i].item() for i in range(len(hop2_subset))}\n",
    "    if len(hop2_subset) > max_nodes:\n",
    "        walks = []\n",
    "        while len(set(walks)) < max_nodes:\n",
    "            walk = random_walk(pyg_graph, start_node, walk_length)\n",
    "            walks.extend(walk)\n",
    "            \n",
    "        subset = [item[0] for item in Counter(walks).most_common(max_nodes)]\n",
    "        subg_edge_index, _ = utils.subgraph(subset, edge_index, relabel_nodes=True)\n",
    "        node_mapping = {i: subset[i] for i in range(len(subset))}\n",
    "    else:\n",
    "        subset = hop2_subset\n",
    "        subg_edge_index = hop2_edge_index\n",
    "\n",
    "    x = pyg_graph.y[subset]\n",
    "    x = torch.nn.functional.one_hot(x, num_classes=2).float()\n",
    "    edge_attr = torch.tensor([[0, 1] for _ in range(subg_edge_index.shape[1])])\n",
    "    extra_x = pyg_graph.x[subset]\n",
    "    node_mapping = torch.tensor(list(node_mapping.values()))\n",
    "    y = torch.empty(1, 0)\n",
    "    # remove self-loops or not \n",
    "    if onlyE:\n",
    "        x = torch.ones((len(subset), 1))\n",
    "        \n",
    "    # Create a new data object for the subgraph\n",
    "    d = Data(x=x, edge_index=subg_edge_index, edge_attr = edge_attr, extra_x = extra_x,\n",
    "             num_nodes=len(subset), node_mapping=node_mapping, y = y)\n",
    "    return d\n",
    "\n",
    "def random_walk(pyg_graph, start_node, walk_length=3):\n",
    "    walk = [start_node]\n",
    "    edge_index = pyg_graph.edge_index\n",
    "    for _ in range(walk_length):\n",
    "        neighbors = edge_index[1][edge_index[0] == walk[-1]]\n",
    "        if len(neighbors) == 0:  # If no neighbors, stop the walk\n",
    "            break\n",
    "        next_node = np.random.choice(neighbors.cpu().numpy())\n",
    "        walk.append(next_node)\n",
    "    return walk"
   ]
  },
  {
   "cell_type": "code",
   "execution_count": null,
   "metadata": {},
   "outputs": [],
   "source": [
    "i = 10\n",
    "print(random_walk_subgraph(reddit, i, 3, 150, onlyE=True))\n",
    "hop2_subset, hop2_edge_index, mapping, _ = k_hop_subgraph(i, num_hops=2, edge_index=reddit.edge_index, relabel_nodes=True)\n",
    "print(len(hop2_subset))"
   ]
  },
  {
   "cell_type": "code",
   "execution_count": null,
   "metadata": {},
   "outputs": [],
   "source": [
    "anomaly_subgraphs = []\n",
    "\n",
    "for i in tqdm(range(1500)):\n",
    "    node_idx = random.choice(anomaly_indices)\n",
    "    subgraph = random_walk_subgraph(reddit, node_idx, 3, 150, onlyE=True)\n",
    "    anomaly_subgraphs.append(subgraph)\n",
    "\n",
    "\n",
    "torch.save(anomaly_subgraphs, f'./pyg_dataset/reddit_diffusion/reddit_anomaly.pt')\n"
   ]
  },
  {
   "cell_type": "markdown",
   "metadata": {},
   "source": [
    "## Cluster-aware Sampling"
   ]
  },
  {
   "cell_type": "code",
   "execution_count": 1,
   "metadata": {},
   "outputs": [
    {
     "name": "stderr",
     "output_type": "stream",
     "text": [
      "/home/allenwang/miniconda3/envs/gad_v2/lib/python3.10/site-packages/tqdm/auto.py:21: TqdmWarning: IProgress not found. Please update jupyter and ipywidgets. See https://ipywidgets.readthedocs.io/en/stable/user_install.html\n",
      "  from .autonotebook import tqdm as notebook_tqdm\n"
     ]
    },
    {
     "name": "stdout",
     "output_type": "stream",
     "text": [
      "Data(edge_index=[2, 168016], train_masks=[10984, 20], val_masks=[10984, 20], test_masks=[10984, 20], num_nodes=10984, y=[10984], x=[10984, 64])\n"
     ]
    }
   ],
   "source": [
    "from utils import GADDataset\n",
    "data = GADDataset('reddit')"
   ]
  },
  {
   "cell_type": "code",
   "execution_count": null,
   "metadata": {},
   "outputs": [],
   "source": [
    "data.split(semi_supervised=False, trial_id=1)\n",
    "data.cluster_anomalous_nodes(k=10)"
   ]
  },
  {
   "cell_type": "markdown",
   "metadata": {},
   "source": [
    "## Subgraph augmentation"
   ]
  },
  {
   "cell_type": "code",
   "execution_count": 1,
   "metadata": {},
   "outputs": [
    {
     "name": "stderr",
     "output_type": "stream",
     "text": [
      "/home/allenwang/miniconda3/envs/gad_v2/lib/python3.10/site-packages/tqdm/auto.py:21: TqdmWarning: IProgress not found. Please update jupyter and ipywidgets. See https://ipywidgets.readthedocs.io/en/stable/user_install.html\n",
      "  from .autonotebook import tqdm as notebook_tqdm\n"
     ]
    }
   ],
   "source": [
    "# get sampled local subgraph\n",
    "import torch\n",
    "from augment import augmentation\n",
    "from torch_geometric.loader import DataLoader"
   ]
  },
  {
   "cell_type": "code",
   "execution_count": 2,
   "metadata": {},
   "outputs": [
    {
     "data": {
      "text/plain": [
       "Data(x=[150, 1], edge_index=[2, 1004], edge_attr=[1004, 2], y=[1, 0], extra_x=[150, 64], num_nodes=150, node_mapping=[150])"
      ]
     },
     "execution_count": 2,
     "metadata": {},
     "output_type": "execute_result"
    }
   ],
   "source": [
    "local_subgraph = torch.load('local_subgraphs/reddit_0.pt')\n",
    "subgraph_loader = "
   ]
  }
 ],
 "metadata": {
  "kernelspec": {
   "display_name": "gad",
   "language": "python",
   "name": "python3"
  },
  "language_info": {
   "codemirror_mode": {
    "name": "ipython",
    "version": 3
   },
   "file_extension": ".py",
   "mimetype": "text/x-python",
   "name": "python",
   "nbconvert_exporter": "python",
   "pygments_lexer": "ipython3",
   "version": "3.10.14"
  }
 },
 "nbformat": 4,
 "nbformat_minor": 2
}
